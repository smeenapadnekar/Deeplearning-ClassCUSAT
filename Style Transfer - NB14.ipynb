{
 "cells": [
  {
   "cell_type": "code",
   "execution_count": 1,
   "metadata": {},
   "outputs": [],
   "source": [
    "#Motivation: https://github.com/rslim087a/PyTorch-for-Deep-Learning-and-Computer-Vision-Course-All-Codes-\n",
    "import torch\n",
    "import torch.nn as nn\n",
    "import torch.optim as optim\n",
    "from torchvision import transforms, models\n",
    "import numpy as np\n",
    "from PIL import Image\n",
    "import matplotlib.pyplot as plt"
   ]
  },
  {
   "cell_type": "code",
   "execution_count": null,
   "metadata": {},
   "outputs": [],
   "source": [
    "vgg = models.vgg19(pretrained=True).features\n",
    "for param in vgg.parameters():\n",
    "    param.requires_grad_(False)"
   ]
  },
  {
   "cell_type": "code",
   "execution_count": null,
   "metadata": {},
   "outputs": [],
   "source": [
    "device = torch.device(\"cuda\" if torch.cuda.is_available() else \"cpu\")\n",
    "vgg.to(device)"
   ]
  },
  {
   "cell_type": "code",
   "execution_count": null,
   "metadata": {},
   "outputs": [],
   "source": [
    "def load_image(img_path, max_size=400, shape=None):\n",
    "    \n",
    "    image = Image.open(img_path).convert('RGB')\n",
    "    if max(image.size) > max_size:\n",
    "        size = max_size\n",
    "    else:\n",
    "        size = max(image.size)\n",
    "    \n",
    "    if shape is not None:\n",
    "        size = shape\n",
    " \n",
    "    in_transform = transforms.Compose([\n",
    "                        transforms.Resize(size),\n",
    "                        transforms.ToTensor(),\n",
    "                        transforms.Normalize((0.5, 0.5, 0.5), \n",
    "                                             (0.5, 0.5, 0.5))])\n",
    "\n",
    "    image = in_transform(image).unsqueeze(0)\n",
    "    \n",
    "    return image"
   ]
  },
  {
   "cell_type": "code",
   "execution_count": null,
   "metadata": {},
   "outputs": [],
   "source": [
    "content = load_image('City.jpeg').to(device)\n",
    "style = load_image('StarryNight.jpg').to(device)\n",
    "print(content.shape, style.shape)"
   ]
  },
  {
   "cell_type": "code",
   "execution_count": null,
   "metadata": {},
   "outputs": [],
   "source": [
    "def im_convert(tensor):\n",
    "    image = tensor.to(\"cpu\").clone().detach()\n",
    "    image = image.numpy().squeeze()\n",
    "    image = image.transpose(1,2,0)\n",
    "    image = image * np.array((0.5, 0.5, 0.5)) + np.array((0.5, 0.5, 0.5))\n",
    "    image = image.clip(0, 1)\n",
    "\n",
    "    return image"
   ]
  },
  {
   "cell_type": "code",
   "execution_count": null,
   "metadata": {},
   "outputs": [],
   "source": [
    "fig, (ax1, ax2) = plt.subplots(1, 2, figsize=(20, 10))\n",
    "ax1.imshow(im_convert(content))\n",
    "ax1.axis(\"off\")\n",
    "ax2.imshow(im_convert(style))\n",
    "ax2.axis(\"off\")"
   ]
  },
  {
   "cell_type": "code",
   "execution_count": null,
   "metadata": {},
   "outputs": [],
   "source": [
    "def get_features(image, model):\n",
    "   \n",
    "    layers = {'0': 'conv1_1',\n",
    "              '5': 'conv2_1', \n",
    "              '10': 'conv3_1', \n",
    "              '19': 'conv4_1',\n",
    "              '21': 'conv4_2',  # Content Extraction\n",
    "              '28': 'conv5_1'}\n",
    "        \n",
    "    features = {}\n",
    "\n",
    "    for name, layer in model._modules.items():\n",
    "        image = layer(image)\n",
    "        if name in layers:\n",
    "            features[layers[name]] = image\n",
    "            \n",
    "    return features"
   ]
  },
  {
   "cell_type": "code",
   "execution_count": null,
   "metadata": {},
   "outputs": [],
   "source": [
    "content_features = get_features(content, vgg)\n",
    "style_features = get_features(style, vgg)"
   ]
  },
  {
   "cell_type": "code",
   "execution_count": null,
   "metadata": {},
   "outputs": [],
   "source": [
    "def gram_matrix(tensor):\n",
    "    _, d, h, w = tensor.size()\n",
    "    tensor = tensor.view(d, h * w)\n",
    "    gram = torch.mm(tensor, tensor.t())\n",
    "    return gram"
   ]
  },
  {
   "cell_type": "code",
   "execution_count": null,
   "metadata": {},
   "outputs": [],
   "source": [
    "style_grams = {layer: gram_matrix(style_features[layer]) for layer in style_features}"
   ]
  },
  {
   "cell_type": "code",
   "execution_count": null,
   "metadata": {},
   "outputs": [],
   "source": [
    "style_weights = {'conv1_1': 1.,\n",
    "                 'conv2_1': 0.75,\n",
    "                 'conv3_1': 0.2,\n",
    "                 'conv4_1': 0.2,\n",
    "                 'conv5_1': 0.2}\n",
    "\n",
    "content_weight = 1  # alpha\n",
    "style_weight = 1e6  # beta"
   ]
  },
  {
   "cell_type": "code",
   "execution_count": null,
   "metadata": {},
   "outputs": [],
   "source": [
    "target = content.clone().requires_grad_(True).to(device)"
   ]
  },
  {
   "cell_type": "code",
   "execution_count": null,
   "metadata": {},
   "outputs": [],
   "source": [
    "show_every = 300\n",
    "optimizer = optim.Adam([target], lr=0.003)\n",
    "steps = 2100\n",
    "\n",
    "height, width, channels = im_convert(target).shape\n",
    "image_array = np.empty(shape=(300, height, width, channels))\n",
    "capture_frame = steps/300\n",
    "counter = 0"
   ]
  },
  {
   "cell_type": "code",
   "execution_count": null,
   "metadata": {},
   "outputs": [],
   "source": [
    "for ii in range(1, steps+1):\n",
    "  target_features = get_features(target, vgg)\n",
    "  content_loss = torch.mean((target_features['conv4_2'] - content_features['conv4_2'])**2)\n",
    "  style_loss = 0\n",
    "  \n",
    "  for layer in style_weights:\n",
    "    target_feature = target_features[layer]\n",
    "    target_gram = gram_matrix(target_feature)\n",
    "    style_gram = style_grams[layer]\n",
    "    layer_style_loss = style_weights[layer] * torch.mean((target_gram - style_gram)**2)\n",
    "    _, d, h, w = target_feature.shape\n",
    "    style_loss += layer_style_loss / (d * h * w)\n",
    "  \n",
    "  total_loss = content_weight * content_loss + style_weight * style_loss\n",
    "  \n",
    "  optimizer.zero_grad()\n",
    "  total_loss.backward()\n",
    "  optimizer.step()\n",
    "  \n",
    "  if  ii % show_every == 0:\n",
    "    print('Total loss: ', total_loss.item())\n",
    "    print('Iteration: ', ii)\n",
    "    plt.imshow(im_convert(target))\n",
    "    plt.axis(\"off\")\n",
    "    plt.show()\n",
    "    \n",
    "  if ii % capture_frame == 0:\n",
    "    image_array[counter] = im_convert(target)\n",
    "    counter = counter + 1"
   ]
  },
  {
   "cell_type": "code",
   "execution_count": null,
   "metadata": {},
   "outputs": [],
   "source": [
    "fig, (ax1, ax2, ax3) = plt.subplots(1, 3, figsize=(20, 10))\n",
    "ax1.imshow(im_convert(content))\n",
    "ax1.axis('off')\n",
    "ax2.imshow(im_convert(style))\n",
    "ax2.axis('off')\n",
    "ax3.imshow(im_convert(target))\n",
    "ax3.axis('off')"
   ]
  },
  {
   "cell_type": "code",
   "execution_count": null,
   "metadata": {},
   "outputs": [],
   "source": [
    "import cv2 \n",
    "\n",
    "frame_height, frame_width, _ = im_convert(target).shape\n",
    "vid = cv2.VideoWriter('output.mp4', cv2.VideoWriter_fourcc(*'XVID'), 30, (frame_width, frame_height))\n",
    "\n",
    "for i in range(0, 300):\n",
    "  img = image_array[i]\n",
    "  img = img*255\n",
    "  img = np.array(img, dtype = np.uint8)\n",
    "  img = cv2.cvtColor(img, cv2.COLOR_BGR2RGB)\n",
    "  vid.write(img)\n",
    "\n",
    "vid.release()"
   ]
  },
  {
   "cell_type": "code",
   "execution_count": null,
   "metadata": {},
   "outputs": [],
   "source": []
  }
 ],
 "metadata": {
  "kernelspec": {
   "display_name": "Python 3",
   "language": "python",
   "name": "python3"
  },
  "language_info": {
   "codemirror_mode": {
    "name": "ipython",
    "version": 3
   },
   "file_extension": ".py",
   "mimetype": "text/x-python",
   "name": "python",
   "nbconvert_exporter": "python",
   "pygments_lexer": "ipython3",
   "version": "3.7.4"
  }
 },
 "nbformat": 4,
 "nbformat_minor": 2
}
