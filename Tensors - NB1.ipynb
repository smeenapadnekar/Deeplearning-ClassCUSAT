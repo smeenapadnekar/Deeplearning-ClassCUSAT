{
 "cells": [
  {
   "cell_type": "code",
   "execution_count": null,
   "metadata": {},
   "outputs": [],
   "source": [
    "#Motivation: https://github.com/rslim087a/PyTorch-for-Deep-Learning-and-Computer-Vision-Course-All-Codes-\n",
    "import torch\n",
    "import numpy as np\n",
    "import matplotlib.pyplot as plt"
   ]
  },
  {
   "cell_type": "code",
   "execution_count": null,
   "metadata": {},
   "outputs": [],
   "source": [
    "#Slicing and Dicing\n",
    "data = torch.tensor([1, 2, 3, 4, 5, 6, 7, 8, 9])\n",
    "print(data.dtype)\n",
    "print(data.shape)\n",
    "print(data)\n",
    "print(data[:])\n",
    "print(data[4:])\n",
    "print(data[4:6])\n",
    "print(data[:6])"
   ]
  },
  {
   "cell_type": "code",
   "execution_count": null,
   "metadata": {},
   "outputs": [],
   "source": [
    "#Creating tensors with different data type\n",
    "data_float = torch.FloatTensor([1, 2, 3, 4, 5, 6, 7, 8, 9])\n",
    "print(data_float.dtype)\n",
    "print(data_float.shape)\n",
    "print(data_float)"
   ]
  },
  {
   "cell_type": "code",
   "execution_count": null,
   "metadata": {},
   "outputs": [],
   "source": [
    "#Reshaping\n",
    "print(data_float.view(9, 1), \"-->\", data_float.view(9, 1).shape)\n",
    "print(data_float.view(3, 3), \"-->\", data_float.view(3, 3).shape)\n",
    "print(data_float.view(3, -1), \"-->\", data_float.view(3, -1).shape)\n",
    "print(data_float.view(1, 3, -1), \"-->\", data_float.view(1, 3, -1).shape)\n",
    "print(data_float.view(3, -1).unsqueeze(0), \"-->\", data_float.view(3, -1).unsqueeze(0).shape)\n",
    "print(data_float.view(3, 3, 1), \"-->\", data_float.view(3, 3, 1).shape)\n",
    "print(data_float.view(3, 1, 3), \"-->\", data_float.view(3, 1, 3).shape)"
   ]
  },
  {
   "cell_type": "code",
   "execution_count": null,
   "metadata": {},
   "outputs": [],
   "source": [
    "#Conversion from numpy array to tensor and viceversa\n",
    "a = np.array([1, 2, 3, 4, 5, 6, 7, 8, 9])\n",
    "print(a, \"-->\", a.dtype)\n",
    "tensor_cnv = torch.from_numpy(a)\n",
    "print(tensor_cnv, \"-->\", tensor_cnv.dtype)\n",
    "numpy_cnd = tensor_cnv.numpy()\n",
    "print(numpy_cnd, \"-->\", numpy_cnd.dtype)"
   ]
  },
  {
   "cell_type": "code",
   "execution_count": null,
   "metadata": {},
   "outputs": [],
   "source": [
    "#Tensor operations\n",
    "t_one = torch.tensor([4, 1, 9])\n",
    "t_two = torch.tensor([3, 6, 4])\n",
    "print(t_one, \" + \", t_two, \" --> \", t_one + t_two)\n",
    "print(t_one, \" * \", t_two, \" --> \", t_one * t_two)\n",
    "print(t_one, \" ** \", t_two, \" --> \", t_one ** t_two)\n",
    "print(t_one, \".\", t_two, \" --> \", torch.dot(t_one, t_two))"
   ]
  },
  {
   "cell_type": "code",
   "execution_count": null,
   "metadata": {},
   "outputs": [],
   "source": [
    "#Data generation\n",
    "print(torch.linspace(0, 1, 3))\n",
    "print(torch.linspace(0, 1))"
   ]
  },
  {
   "cell_type": "code",
   "execution_count": null,
   "metadata": {},
   "outputs": [],
   "source": [
    "x = torch.linspace(0, 10)\n",
    "y = torch.exp(x)\n",
    "plt.plot(x, y)"
   ]
  },
  {
   "cell_type": "code",
   "execution_count": null,
   "metadata": {},
   "outputs": [],
   "source": [
    "x = torch.linspace(0, 10)\n",
    "y = torch.sin(x)\n",
    "plt.plot(x, y)"
   ]
  },
  {
   "cell_type": "code",
   "execution_count": null,
   "metadata": {},
   "outputs": [],
   "source": [
    "#Complex slicing of 3D Tensor\n",
    "x = torch.arange(18).view(2, 3, 3)\n",
    "y = x.view(3, 2, 3)\n",
    "z = x.view(3, 3, 2)\n",
    "print(x, \"\\n\\n\", y, \"\\n\\n\", z)"
   ]
  },
  {
   "cell_type": "code",
   "execution_count": null,
   "metadata": {},
   "outputs": [],
   "source": [
    "#Slicing 3D Tensor\n",
    "print(x[:, :, 1])\n",
    "print(z[0, :, 0])\n",
    "print(z[0, :, 0].view(3, 1))"
   ]
  },
  {
   "cell_type": "code",
   "execution_count": null,
   "metadata": {},
   "outputs": [],
   "source": [
    "x = torch.arange(6).view(3, 2)\n",
    "y = torch.arange(6).view(2, 3)\n",
    "print(x, \"\\n\\n x \\n\\n\", y, \"\\n\\n ==> \\n\\n\", torch.matmul(x, y))\n",
    "print(\"-----------------------------\")\n",
    "print(y, \"\\n\\n x \\n\\n\", x, \"\\n\\n ==> \\n\\n\", torch.matmul(y, x))\n",
    "print(\"-----------------------------\")"
   ]
  },
  {
   "cell_type": "code",
   "execution_count": null,
   "metadata": {},
   "outputs": [],
   "source": [
    "#Different ways of matmul or mm\n",
    "print(x.mm(y))\n",
    "print(x @ y)\n",
    "print(torch.mm(x, y))\n",
    "print(torch.matmul(x, y))"
   ]
  },
  {
   "cell_type": "code",
   "execution_count": null,
   "metadata": {},
   "outputs": [],
   "source": [
    "#Gradient with PyTorch\n",
    "x = torch.tensor(2.0, requires_grad=True)\n",
    "y = 4*x**2 + 3*x + 5\n",
    "y.backward()\n",
    "print(x.grad)\n",
    "print(x*15)"
   ]
  },
  {
   "cell_type": "code",
   "execution_count": null,
   "metadata": {},
   "outputs": [],
   "source": [
    "#Gradient with PyTorch\n",
    "x = torch.tensor(2.0, requires_grad=True)\n",
    "y = 4*x**3 + 3*x**2 + 5*x - 4\n",
    "y.backward(retain_graph=True)\n",
    "print(x.grad)\n",
    "y.backward()\n",
    "print(x.grad)"
   ]
  },
  {
   "cell_type": "code",
   "execution_count": null,
   "metadata": {},
   "outputs": [],
   "source": [
    "x = torch.tensor(2.0, requires_grad=True)\n",
    "y = 4*x**2 + 3*x + 5\n",
    "with torch.no_grad():\n",
    "    print(y)\n",
    "y.backward()\n",
    "print(x.grad)"
   ]
  },
  {
   "cell_type": "code",
   "execution_count": null,
   "metadata": {},
   "outputs": [],
   "source": [
    "import requests\n",
    "from PIL import Image\n",
    "\n",
    "url = 'http://s3.amazonaws.com/lab-notes-media/blog/wp-content/uploads/2017/05/top6-weirdants1.jpg'\n",
    "response = requests.get(url, stream = True)\n",
    "img = Image.open(response.raw)\n",
    "plt.imshow(img)"
   ]
  },
  {
   "cell_type": "code",
   "execution_count": null,
   "metadata": {},
   "outputs": [],
   "source": [
    "from torchvision import transforms\n",
    "transform = transforms.Compose([transforms.ToTensor()])\n",
    "t_img = transform(img)\n",
    "c,h,w = t_img.shape\n",
    "plt.imshow(t_img[:,0:int(h/2), 0:int(w/2)].numpy().transpose(1,2,0))"
   ]
  },
  {
   "cell_type": "code",
   "execution_count": null,
   "metadata": {},
   "outputs": [],
   "source": [
    "plt.imshow(t_img[:,0:int(h/2), :].numpy().transpose(1,2,0))"
   ]
  },
  {
   "cell_type": "code",
   "execution_count": null,
   "metadata": {},
   "outputs": [],
   "source": [
    "plt.imshow(t_img[:, :, 0:int(w/2)].numpy().transpose(1,2,0))"
   ]
  },
  {
   "cell_type": "code",
   "execution_count": null,
   "metadata": {},
   "outputs": [],
   "source": [
    "plt.imshow(t_img[2, :, :].numpy())"
   ]
  }
 ],
 "metadata": {
  "kernelspec": {
   "display_name": "pytor",
   "language": "python",
   "name": "pytor"
  },
  "language_info": {
   "codemirror_mode": {
    "name": "ipython",
    "version": 3
   },
   "file_extension": ".py",
   "mimetype": "text/x-python",
   "name": "python",
   "nbconvert_exporter": "python",
   "pygments_lexer": "ipython3",
   "version": "3.7.5"
  }
 },
 "nbformat": 4,
 "nbformat_minor": 2
}
